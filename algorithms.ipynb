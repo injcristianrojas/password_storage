{
 "cells": [
  {
   "cell_type": "markdown",
   "metadata": {},
   "source": [
    "# Demo de algoritmos para almacenar passwords"
   ]
  },
  {
   "cell_type": "code",
   "execution_count": null,
   "metadata": {},
   "outputs": [],
   "source": [
    "password = b'cbda'"
   ]
  },
  {
   "cell_type": "code",
   "execution_count": null,
   "metadata": {},
   "outputs": [],
   "source": [
    "ALPHABET = 'abcd'"
   ]
  },
  {
   "cell_type": "markdown",
   "metadata": {},
   "source": [
    "## Probando las funciones hash clásicas: MD5, SHA1 y SHA256"
   ]
  },
  {
   "cell_type": "code",
   "execution_count": null,
   "metadata": {},
   "outputs": [],
   "source": [
    "from Crypto.Hash import MD5, SHA, SHA256"
   ]
  },
  {
   "cell_type": "code",
   "execution_count": null,
   "metadata": {},
   "outputs": [],
   "source": [
    "md5 = MD5.new()\n",
    "md5.update(password)\n",
    "print(md5.hexdigest())"
   ]
  },
  {
   "cell_type": "code",
   "execution_count": null,
   "metadata": {},
   "outputs": [],
   "source": [
    "sha1 = SHA.new()\n",
    "sha1.update(password)\n",
    "print(sha1.hexdigest())"
   ]
  },
  {
   "cell_type": "code",
   "execution_count": null,
   "metadata": {
    "scrolled": true
   },
   "outputs": [],
   "source": [
    "sha256 = SHA256.new()\n",
    "sha256.update(password)\n",
    "print(sha256.hexdigest())"
   ]
  },
  {
   "cell_type": "markdown",
   "metadata": {},
   "source": [
    "Ahora, una función que me permita generar todas las passwords posibles (del largo del alfabeto) para poder hacer fuerza bruta, y una segunda que me permita hacer la fuerza bruta para cada algoritmo:"
   ]
  },
  {
   "cell_type": "code",
   "execution_count": null,
   "metadata": {},
   "outputs": [],
   "source": [
    "import itertools\n",
    "\n",
    "def get_bruteforce_string_list():\n",
    "    prod = itertools.product(ALPHABET, repeat = len(ALPHABET))\n",
    "    return ((\"\".join(map(str, a)).encode('utf-8') for a in prod))\n",
    "def bruteforce_hash(hash_object, password_hash):\n",
    "    for attempt in get_bruteforce_string_list():\n",
    "        if hash_object.new(attempt).hexdigest() == password_hash.hexdigest():\n",
    "            print('PASSWORD FOUND: %s' % attempt)\n",
    "            break\n",
    "def bruteforce_plaintext():\n",
    "    for attempt in get_bruteforce_string_list():\n",
    "        if attempt == password:\n",
    "            print('PASSWORD FOUND: %s' % attempt)\n",
    "            break"
   ]
  },
  {
   "cell_type": "markdown",
   "metadata": {},
   "source": [
    "#### Fuerza bruta para texto plano"
   ]
  },
  {
   "cell_type": "code",
   "execution_count": null,
   "metadata": {},
   "outputs": [],
   "source": [
    "timeit_plaintext = %%timeit -n1 -r1 -q -o bruteforce_plaintext()"
   ]
  },
  {
   "cell_type": "markdown",
   "metadata": {},
   "source": [
    "#### Fuerza bruta para MD5"
   ]
  },
  {
   "cell_type": "code",
   "execution_count": null,
   "metadata": {},
   "outputs": [],
   "source": [
    "timeit_md5 = %%timeit -n1 -r1 -q -o bruteforce_hash(MD5, md5)"
   ]
  },
  {
   "cell_type": "markdown",
   "metadata": {},
   "source": [
    "#### Fuerza bruta para SHA1"
   ]
  },
  {
   "cell_type": "code",
   "execution_count": null,
   "metadata": {},
   "outputs": [],
   "source": [
    "timeit_sha1 = %%timeit -n1 -r1 -q -o bruteforce_hash(SHA, sha1)"
   ]
  },
  {
   "cell_type": "markdown",
   "metadata": {},
   "source": [
    "#### Fuerza bruta para SHA256"
   ]
  },
  {
   "cell_type": "code",
   "execution_count": null,
   "metadata": {},
   "outputs": [],
   "source": [
    "timeit_sha256 = %%timeit -n1 -r1 -q -o bruteforce_hash(SHA256, sha256)"
   ]
  },
  {
   "cell_type": "markdown",
   "metadata": {},
   "source": [
    "## Ahora con una función KDF: BCrypt"
   ]
  },
  {
   "cell_type": "code",
   "execution_count": null,
   "metadata": {},
   "outputs": [],
   "source": [
    "import bcrypt"
   ]
  },
  {
   "cell_type": "markdown",
   "metadata": {},
   "source": [
    "Generación de una sal. A la función `gensalt` se le puede dar un parámetro de costo. Por defecto es 12. Ver <https://en.wikipedia.org/wiki/Bcrypt>"
   ]
  },
  {
   "cell_type": "code",
   "execution_count": null,
   "metadata": {},
   "outputs": [],
   "source": [
    "salt = bcrypt.gensalt()\n",
    "print(salt)"
   ]
  },
  {
   "cell_type": "markdown",
   "metadata": {},
   "source": [
    "Generación del KDF o \"digest\" respectivo:"
   ]
  },
  {
   "cell_type": "code",
   "execution_count": null,
   "metadata": {},
   "outputs": [],
   "source": [
    "kdf = bcrypt.hashpw(password, salt)\n",
    "print(kdf)"
   ]
  },
  {
   "cell_type": "markdown",
   "metadata": {},
   "source": [
    "#### Fuerza bruta para BCrypt"
   ]
  },
  {
   "cell_type": "code",
   "execution_count": null,
   "metadata": {},
   "outputs": [],
   "source": [
    "def bruteforce_bcrypt():\n",
    "    for attempt in get_bruteforce_string_list():\n",
    "        if bcrypt.hashpw(attempt, kdf) == kdf:\n",
    "            print('PASSWORD FOUND: %s' % attempt)\n",
    "            break\n",
    "timeit_kdf = %%timeit -n1 -r1 -q -o bruteforce_bcrypt()"
   ]
  },
  {
   "cell_type": "markdown",
   "metadata": {},
   "source": [
    "## Resultados"
   ]
  },
  {
   "cell_type": "code",
   "execution_count": null,
   "metadata": {},
   "outputs": [],
   "source": [
    "from ipy_table import make_table, apply_theme\n",
    "results_data = [\n",
    "    ['Tipo', 'Tiempo (s)'],\n",
    "    ['Texto plano', timeit_plaintext.best],\n",
    "    ['MD5', timeit_md5.best],\n",
    "    ['SHA1', timeit_sha1.best],\n",
    "    ['SHA256', timeit_sha256.best],\n",
    "    ['KDF (BCrypt)', timeit_kdf.best],\n",
    "]\n",
    "make_table(results_data)\n",
    "apply_theme('basic')"
   ]
  }
 ],
 "metadata": {
  "kernelspec": {
   "display_name": "Python 3",
   "language": "python",
   "name": "python3"
  },
  "language_info": {
   "codemirror_mode": {
    "name": "ipython",
    "version": 3
   },
   "file_extension": ".py",
   "mimetype": "text/x-python",
   "name": "python",
   "nbconvert_exporter": "python",
   "pygments_lexer": "ipython3",
   "version": "3.6.6"
  }
 },
 "nbformat": 4,
 "nbformat_minor": 1
}
