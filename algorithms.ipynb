{
 "cells": [
  {
   "cell_type": "markdown",
   "metadata": {},
   "source": [
    "# Demo de algoritmos para almacenar passwords"
   ]
  },
  {
   "cell_type": "code",
   "execution_count": 1,
   "metadata": {},
   "outputs": [],
   "source": [
    "password = b'cbda'"
   ]
  },
  {
   "cell_type": "code",
   "execution_count": 2,
   "metadata": {},
   "outputs": [],
   "source": [
    "ALPHABET = 'abcd'"
   ]
  },
  {
   "cell_type": "markdown",
   "metadata": {},
   "source": [
    "## Probando las funciones hash clásicas: MD5, SHA1 y SHA256"
   ]
  },
  {
   "cell_type": "code",
   "execution_count": 3,
   "metadata": {},
   "outputs": [],
   "source": [
    "import hashlib"
   ]
  },
  {
   "cell_type": "code",
   "execution_count": 4,
   "metadata": {},
   "outputs": [
    {
     "name": "stdout",
     "output_type": "stream",
     "text": [
      "4abf4d24c623f9a3fa9ca35f68b9ce17\n"
     ]
    }
   ],
   "source": [
    "md5_digest = hashlib.md5(password).hexdigest()\n",
    "print(md5_digest)"
   ]
  },
  {
   "cell_type": "code",
   "execution_count": 5,
   "metadata": {},
   "outputs": [
    {
     "name": "stdout",
     "output_type": "stream",
     "text": [
      "270a5f78075011a3f9d3861b20e9dc5161df8851\n"
     ]
    }
   ],
   "source": [
    "sha1_digest = hashlib.sha1(password).hexdigest()\n",
    "print(sha1_digest)"
   ]
  },
  {
   "cell_type": "code",
   "execution_count": 6,
   "metadata": {},
   "outputs": [
    {
     "name": "stdout",
     "output_type": "stream",
     "text": [
      "b6d838d324733bba724b52e721620abcbde75183e449a42b3f4edfa974a3222b\n"
     ]
    }
   ],
   "source": [
    "sha256_digest = hashlib.sha256(password).hexdigest()\n",
    "print(sha256_digest)"
   ]
  },
  {
   "cell_type": "markdown",
   "metadata": {},
   "source": [
    "Ahora, una función que me permita generar todas las passwords posibles (del largo del alfabeto) para poder hacer fuerza bruta, y una segunda que me permita hacer la fuerza bruta para cada algoritmo:"
   ]
  },
  {
   "cell_type": "code",
   "execution_count": 7,
   "metadata": {},
   "outputs": [],
   "source": [
    "import itertools\n",
    "\n",
    "def get_bruteforce_string_list():\n",
    "    prod = itertools.product(ALPHABET, repeat = len(ALPHABET))\n",
    "    return ((\"\".join(map(str, a)).encode('utf-8') for a in prod))\n",
    "def bruteforce_hash(hash_object, password_hash):\n",
    "    for attempt in get_bruteforce_string_list():\n",
    "        h = hashlib.new(hash_object)\n",
    "        h.update(attempt)\n",
    "        if h.hexdigest() == password_hash:\n",
    "            print('PASSWORD FOUND: %s' % attempt)\n",
    "            break\n",
    "def bruteforce_plaintext():\n",
    "    for attempt in get_bruteforce_string_list():\n",
    "        if attempt == password:\n",
    "            print('PASSWORD FOUND: %s' % attempt)\n",
    "            break"
   ]
  },
  {
   "cell_type": "markdown",
   "metadata": {},
   "source": [
    "#### Fuerza bruta para texto plano"
   ]
  },
  {
   "cell_type": "code",
   "execution_count": 8,
   "metadata": {},
   "outputs": [
    {
     "name": "stdout",
     "output_type": "stream",
     "text": [
      "PASSWORD FOUND: b'cbda'\n"
     ]
    }
   ],
   "source": [
    "timeit_plaintext = %timeit -n1 -r1 -q -o bruteforce_plaintext()"
   ]
  },
  {
   "cell_type": "markdown",
   "metadata": {},
   "source": [
    "#### Fuerza bruta para MD5"
   ]
  },
  {
   "cell_type": "code",
   "execution_count": 9,
   "metadata": {},
   "outputs": [
    {
     "name": "stdout",
     "output_type": "stream",
     "text": [
      "PASSWORD FOUND: b'cbda'\n"
     ]
    }
   ],
   "source": [
    "timeit_md5 = %timeit -n1 -r1 -q -o bruteforce_hash('md5', md5_digest)"
   ]
  },
  {
   "cell_type": "markdown",
   "metadata": {},
   "source": [
    "#### Fuerza bruta para SHA1"
   ]
  },
  {
   "cell_type": "code",
   "execution_count": 10,
   "metadata": {},
   "outputs": [
    {
     "name": "stdout",
     "output_type": "stream",
     "text": [
      "PASSWORD FOUND: b'cbda'\n"
     ]
    }
   ],
   "source": [
    "timeit_sha1 = %timeit -n1 -r1 -q -o bruteforce_hash('sha1', sha1_digest)"
   ]
  },
  {
   "cell_type": "markdown",
   "metadata": {},
   "source": [
    "#### Fuerza bruta para SHA256"
   ]
  },
  {
   "cell_type": "code",
   "execution_count": 11,
   "metadata": {},
   "outputs": [
    {
     "name": "stdout",
     "output_type": "stream",
     "text": [
      "PASSWORD FOUND: b'cbda'\n"
     ]
    }
   ],
   "source": [
    "timeit_sha256 = %timeit -n1 -r1 -q -o bruteforce_hash('sha256', sha256_digest)"
   ]
  },
  {
   "cell_type": "markdown",
   "metadata": {},
   "source": [
    "## Ahora con una función KDF: BCrypt"
   ]
  },
  {
   "cell_type": "code",
   "execution_count": 12,
   "metadata": {},
   "outputs": [],
   "source": [
    "import bcrypt"
   ]
  },
  {
   "cell_type": "markdown",
   "metadata": {},
   "source": [
    "Generación de una sal. A la función `gensalt` se le puede dar un parámetro de costo. Por defecto es 12. Ver <https://en.wikipedia.org/wiki/Bcrypt>"
   ]
  },
  {
   "cell_type": "code",
   "execution_count": 13,
   "metadata": {},
   "outputs": [
    {
     "name": "stdout",
     "output_type": "stream",
     "text": [
      "b'$2b$12$Etk7tLlUKqXIKzTLeLfwtO'\n"
     ]
    }
   ],
   "source": [
    "salt = bcrypt.gensalt()\n",
    "print(salt)"
   ]
  },
  {
   "cell_type": "markdown",
   "metadata": {},
   "source": [
    "Generación del KDF o \"digest\" respectivo:"
   ]
  },
  {
   "cell_type": "code",
   "execution_count": 14,
   "metadata": {},
   "outputs": [
    {
     "name": "stdout",
     "output_type": "stream",
     "text": [
      "b'$2b$12$Etk7tLlUKqXIKzTLeLfwtOUWsyT0gMm1KUPHFH2na1mx.lOE1WkYi'\n"
     ]
    }
   ],
   "source": [
    "kdf_bcrypt = bcrypt.hashpw(password, salt)\n",
    "print(kdf_bcrypt)"
   ]
  },
  {
   "cell_type": "markdown",
   "metadata": {},
   "source": [
    "#### Fuerza bruta para BCrypt"
   ]
  },
  {
   "cell_type": "code",
   "execution_count": 15,
   "metadata": {},
   "outputs": [
    {
     "name": "stdout",
     "output_type": "stream",
     "text": [
      "PASSWORD FOUND: b'cbda'\n"
     ]
    }
   ],
   "source": [
    "def bruteforce_bcrypt():\n",
    "    for attempt in get_bruteforce_string_list():\n",
    "        if bcrypt.hashpw(attempt, kdf_bcrypt) == kdf_bcrypt:\n",
    "            print('PASSWORD FOUND: %s' % attempt)\n",
    "            break\n",
    "timeit_bcrypt = %timeit -n1 -r1 -q -o bruteforce_bcrypt()"
   ]
  },
  {
   "cell_type": "markdown",
   "metadata": {},
   "source": [
    "## Resultados"
   ]
  },
  {
   "cell_type": "code",
   "execution_count": 16,
   "metadata": {},
   "outputs": [
    {
     "data": {
      "text/html": [
       "<table border=\"1\" cellpadding=\"3\" cellspacing=\"0\"  style=\"border:black; border-collapse:collapse;\"><tr><td  style=\"background-color:LightGray;border-left: 1px solid;border-right: 1px solid;border-top: 1px solid;border-bottom: 1px solid;\"><b>Tipo</b></td><td  style=\"background-color:LightGray;border-left: 1px solid;border-right: 1px solid;border-top: 1px solid;border-bottom: 1px solid;\"><b>Tiempo&nbsp;(s)</b></td></tr><tr><td  style=\"background-color:Ivory;border-left: 1px solid;border-right: 1px solid;border-top: 1px solid;border-bottom: 1px solid;\">Texto&nbsp;plano</td><td  style=\"background-color:Ivory;border-left: 1px solid;border-right: 1px solid;border-top: 1px solid;border-bottom: 1px solid;\">0.0003</td></tr><tr><td  style=\"background-color:AliceBlue;border-left: 1px solid;border-right: 1px solid;border-top: 1px solid;border-bottom: 1px solid;\">MD5</td><td  style=\"background-color:AliceBlue;border-left: 1px solid;border-right: 1px solid;border-top: 1px solid;border-bottom: 1px solid;\">0.0004</td></tr><tr><td  style=\"background-color:Ivory;border-left: 1px solid;border-right: 1px solid;border-top: 1px solid;border-bottom: 1px solid;\">SHA1</td><td  style=\"background-color:Ivory;border-left: 1px solid;border-right: 1px solid;border-top: 1px solid;border-bottom: 1px solid;\">0.0003</td></tr><tr><td  style=\"background-color:AliceBlue;border-left: 1px solid;border-right: 1px solid;border-top: 1px solid;border-bottom: 1px solid;\">SHA256</td><td  style=\"background-color:AliceBlue;border-left: 1px solid;border-right: 1px solid;border-top: 1px solid;border-bottom: 1px solid;\">0.0003</td></tr><tr><td  style=\"background-color:Ivory;border-left: 1px solid;border-right: 1px solid;border-top: 1px solid;border-bottom: 1px solid;\">KDF&nbsp;(BCrypt)</td><td  style=\"background-color:Ivory;border-left: 1px solid;border-right: 1px solid;border-top: 1px solid;border-bottom: 1px solid;\">31.5044</td></tr></table>"
      ],
      "text/plain": [
       "<ipy_table.ipy_table.IpyTable at 0x7f81148b1a10>"
      ]
     },
     "execution_count": 16,
     "metadata": {},
     "output_type": "execute_result"
    }
   ],
   "source": [
    "from ipy_table import make_table, apply_theme\n",
    "results_data = [\n",
    "    ['Tipo', 'Tiempo (s)'],\n",
    "    ['Texto plano', timeit_plaintext.best],\n",
    "    ['MD5', timeit_md5.best],\n",
    "    ['SHA1', timeit_sha1.best],\n",
    "    ['SHA256', timeit_sha256.best],\n",
    "    ['KDF (BCrypt)', timeit_bcrypt.best],\n",
    "]\n",
    "make_table(results_data)\n",
    "apply_theme('basic')"
   ]
  },
  {
   "cell_type": "code",
   "execution_count": null,
   "metadata": {},
   "outputs": [],
   "source": []
  }
 ],
 "metadata": {
  "kernelspec": {
   "display_name": "Python 3",
   "language": "python",
   "name": "python3"
  },
  "language_info": {
   "codemirror_mode": {
    "name": "ipython",
    "version": 3
   },
   "file_extension": ".py",
   "mimetype": "text/x-python",
   "name": "python",
   "nbconvert_exporter": "python",
   "pygments_lexer": "ipython3",
   "version": "3.7.6"
  }
 },
 "nbformat": 4,
 "nbformat_minor": 4
}
